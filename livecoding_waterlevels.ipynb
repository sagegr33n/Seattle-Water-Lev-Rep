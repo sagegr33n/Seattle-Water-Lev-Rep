{
 "cells": [
  {
   "cell_type": "code",
   "execution_count": 9,
   "id": "ca1f9cdd-47bd-439f-ae2d-734f68c5e650",
   "metadata": {
    "tags": []
   },
   "outputs": [],
   "source": [
    "import matplotlib.pyplot as plt # for plotting\n",
    "import numpy as np # for reading in and manipulating data\n",
    "from datetime import datetime\n"
   ]
  },
  {
   "cell_type": "code",
   "execution_count": 14,
   "id": "ffeeeb76-a63a-4de7-b1ed-a0659dd079f1",
   "metadata": {
    "tags": []
   },
   "outputs": [],
   "source": [
    "# find file \n",
    "filepath= 'data/real_water_levels.csv'"
   ]
  },
  {
   "cell_type": "code",
   "execution_count": 15,
   "id": "4875a025-4370-4497-88e9-5d1cadd0fd7f",
   "metadata": {
    "tags": []
   },
   "outputs": [],
   "source": [
    "# create a file object\n",
    "file_obj= open(filepath,'r')\n",
    "\n",
    "# open the whole file as a list of strings\n",
    "\n",
    "lines= file_obj.readlines()"
   ]
  },
  {
   "cell_type": "code",
   "execution_count": 22,
   "id": "d5d840c9-7289-44ec-b9d0-cf621013ca75",
   "metadata": {
    "tags": []
   },
   "outputs": [
    {
     "name": "stdout",
     "output_type": "stream",
     "text": [
      "There are 7201 in the file!\n"
     ]
    }
   ],
   "source": [
    "# see how many lines are in the file\n",
    "print('There are',len(lines),'in the file!')"
   ]
  },
  {
   "cell_type": "code",
   "execution_count": 23,
   "id": "8835fcd9-22b0-47ad-a0ae-b3c0df4c10bf",
   "metadata": {
    "tags": []
   },
   "outputs": [
    {
     "name": "stdout",
     "output_type": "stream",
     "text": [
      "\"2024/09/01\",\"00:54\",\"11.197\",\"-\",\"11.22\"\n",
      "\n"
     ]
    }
   ],
   "source": [
    "# try accessing one line of file at a time \n",
    "print(file_obj.readline())"
   ]
  },
  {
   "cell_type": "code",
   "execution_count": 18,
   "id": "a4db1b29-b0c3-4b74-a5cf-6b73da49aa83",
   "metadata": {
    "tags": []
   },
   "outputs": [],
   "source": [
    "# close the previous file\n",
    "file_obj.close()"
   ]
  },
  {
   "cell_type": "code",
   "execution_count": 19,
   "id": "1c648f67-9091-4f35-8b5f-d5c0d1ef84e0",
   "metadata": {
    "tags": []
   },
   "outputs": [],
   "source": [
    "# create new file object i guess\n",
    "file_obj=open(filepath,'r')"
   ]
  },
  {
   "cell_type": "code",
   "execution_count": 20,
   "id": "3ba672d7-a673-428e-afd7-57dce6e4b4fd",
   "metadata": {
    "tags": []
   },
   "outputs": [
    {
     "name": "stdout",
     "output_type": "stream",
     "text": [
      "\"Date\",\"Time (GMT)\",\"Predicted (ft)\",\"Preliminary (ft)\",\"Verified (ft)\"\n",
      "\n",
      "\"2024/09/01\",\"00:00\",\"11.082\",\"-\",\"11.33\"\n",
      "\n",
      "\"2024/09/01\",\"00:06\",\"11.128\",\"-\",\"11.33\"\n",
      "\n",
      "\"2024/09/01\",\"00:12\",\"11.166\",\"-\",\"11.36\"\n",
      "\n",
      "\"2024/09/01\",\"00:18\",\"11.196\",\"-\",\"11.36\"\n",
      "\n",
      "\"2024/09/01\",\"00:24\",\"11.217\",\"-\",\"11.34\"\n",
      "\n",
      "\"2024/09/01\",\"00:30\",\"11.23\",\"-\",\"11.34\"\n",
      "\n",
      "\"2024/09/01\",\"00:36\",\"11.235\",\"-\",\"11.33\"\n",
      "\n",
      "\"2024/09/01\",\"00:42\",\"11.231\",\"-\",\"11.29\"\n",
      "\n",
      "\"2024/09/01\",\"00:48\",\"11.218\",\"-\",\"11.27\"\n",
      "\n"
     ]
    }
   ],
   "source": [
    "# print the first 10 lines using a for loop\n",
    "for i in range(10):\n",
    "    print(file_obj.readline())"
   ]
  },
  {
   "cell_type": "code",
   "execution_count": 24,
   "id": "bd075a78-c98e-4334-92e7-e68fc69144e8",
   "metadata": {
    "tags": []
   },
   "outputs": [],
   "source": [
    "# one line of header text\n",
    "# 5 columns. date, time, predicted ft, prelim ft, cerified ft\n",
    "# data are seperated by commas"
   ]
  },
  {
   "cell_type": "code",
   "execution_count": 42,
   "id": "36adc062-dc1c-4433-b05d-6676eb96ee20",
   "metadata": {
    "tags": []
   },
   "outputs": [],
   "source": [
    "#extract info from all columns that are needed\n",
    "#using genfrmtxt\n",
    "\n",
    "data=np.genfromtxt(filepath,\n",
    "                  skip_header=1, # one line of header\n",
    "                  usecols=(0,1,2,4), # columns we want \n",
    "                  dtype= str ,# read anything in a string\n",
    "                  delimiter=',', # csv-> command separated variable idk\n",
    "                 )\n",
    "                  "
   ]
  },
  {
   "cell_type": "code",
   "execution_count": 43,
   "id": "9a3c6359-142f-4d3a-ae2c-0c49e6c9feea",
   "metadata": {
    "tags": []
   },
   "outputs": [
    {
     "name": "stdout",
     "output_type": "stream",
     "text": [
      "7200 4\n"
     ]
    }
   ],
   "source": [
    "nrows=np.shape(data)[0]\n",
    "ncols=np.shape(data)[1]\n",
    "print(nrows,ncols)"
   ]
  },
  {
   "cell_type": "code",
   "execution_count": 69,
   "id": "b1f70a97-16cc-4d49-87b3-b38ae12a0189",
   "metadata": {
    "tags": []
   },
   "outputs": [
    {
     "data": {
      "text/plain": [
       "array([['024/09/0', '0:0', '1.08', '1.3'],\n",
       "       ['024/09/0', '0:0', '1.12', '1.3'],\n",
       "       ['024/09/0', '0:1', '1.16', '1.3'],\n",
       "       ...,\n",
       "       ['024/09/3', '3:4', '0.83', '0.7'],\n",
       "       ['024/09/3', '3:4', '0.85', '0.7'],\n",
       "       ['024/09/3', '3:5', '0.87', '0.7']], dtype='<U12')"
      ]
     },
     "execution_count": 69,
     "metadata": {},
     "output_type": "execute_result"
    }
   ],
   "source": [
    "# remove the quotes at the start and end of each string\n",
    "for i in range(nrows): # loop over the rows of data\n",
    "    for j in range(ncols): # loop over columns of data\n",
    "    # print(data[i,j] print out element in the ith row\n",
    "   # print(data[i,j[1:-1])\n",
    "        data[i,j]=data[i,j][1:-1]\n",
    "data"
   ]
  },
  {
   "cell_type": "code",
   "execution_count": 64,
   "id": "b3b073cd-3bc5-4474-a513-76f985b88aec",
   "metadata": {
    "tags": []
   },
   "outputs": [
    {
     "name": "stdout",
     "output_type": "stream",
     "text": [
      "['2024/09/01' '00:00' '11.082' '11.33']\n"
     ]
    },
    {
     "data": {
      "text/plain": [
       "'2024/09/01 00:00'"
      ]
     },
     "execution_count": 64,
     "metadata": {},
     "output_type": "execute_result"
    }
   ],
   "source": [
    "# consider first row \n",
    "row= data[0]\n",
    "print(row)\n",
    "row[0]+' '+row[1]"
   ]
  },
  {
   "cell_type": "code",
   "execution_count": 66,
   "id": "13ad048a-30e0-4108-b9e8-a63204396044",
   "metadata": {
    "tags": []
   },
   "outputs": [
    {
     "name": "stdout",
     "output_type": "stream",
     "text": [
      "2024/09/0100:00 %Y/%m/%d\n"
     ]
    }
   ],
   "source": [
    "# get full datetime as a string concat the first\n",
    "print(row[0] + '' + row[1], '%Y/%m/%d')"
   ]
  },
  {
   "cell_type": "code",
   "execution_count": 68,
   "id": "4d7978a7-d0b6-4c47-a936-110a81aab33e",
   "metadata": {
    "tags": []
   },
   "outputs": [
    {
     "ename": "ValueError",
     "evalue": "time data '2024/09/0100:00' does not match format '%Y/%m/%d , %H:%M'",
     "output_type": "error",
     "traceback": [
      "\u001b[0;31m---------------------------------------------------------------------------\u001b[0m",
      "\u001b[0;31mValueError\u001b[0m                                Traceback (most recent call last)",
      "Cell \u001b[0;32mIn[68], line 1\u001b[0m\n\u001b[0;32m----> 1\u001b[0m \u001b[43mdatetime\u001b[49m\u001b[38;5;241;43m.\u001b[39;49m\u001b[43mstrptime\u001b[49m\u001b[43m(\u001b[49m\u001b[43mrow\u001b[49m\u001b[43m[\u001b[49m\u001b[38;5;241;43m0\u001b[39;49m\u001b[43m]\u001b[49m\u001b[43m \u001b[49m\u001b[38;5;241;43m+\u001b[39;49m\u001b[43m \u001b[49m\u001b[38;5;124;43m'\u001b[39;49m\u001b[38;5;124;43m'\u001b[39;49m\u001b[43m \u001b[49m\u001b[38;5;241;43m+\u001b[39;49m\u001b[43m \u001b[49m\u001b[43mrow\u001b[49m\u001b[43m[\u001b[49m\u001b[38;5;241;43m1\u001b[39;49m\u001b[43m]\u001b[49m\u001b[43m,\u001b[49m\u001b[43m \u001b[49m\u001b[38;5;124;43m'\u001b[39;49m\u001b[38;5;124;43m%\u001b[39;49m\u001b[38;5;124;43mY/\u001b[39;49m\u001b[38;5;124;43m%\u001b[39;49m\u001b[38;5;124;43mm/\u001b[39;49m\u001b[38;5;132;43;01m%d\u001b[39;49;00m\u001b[38;5;124;43m , \u001b[39;49m\u001b[38;5;124;43m%\u001b[39;49m\u001b[38;5;124;43mH:\u001b[39;49m\u001b[38;5;124;43m%\u001b[39;49m\u001b[38;5;124;43mM\u001b[39;49m\u001b[38;5;124;43m'\u001b[39;49m\u001b[43m)\u001b[49m\n",
      "File \u001b[0;32m/opt/conda/lib/python3.10/_strptime.py:568\u001b[0m, in \u001b[0;36m_strptime_datetime\u001b[0;34m(cls, data_string, format)\u001b[0m\n\u001b[1;32m    565\u001b[0m \u001b[38;5;28;01mdef\u001b[39;00m \u001b[38;5;21m_strptime_datetime\u001b[39m(\u001b[38;5;28mcls\u001b[39m, data_string, \u001b[38;5;28mformat\u001b[39m\u001b[38;5;241m=\u001b[39m\u001b[38;5;124m\"\u001b[39m\u001b[38;5;132;01m%a\u001b[39;00m\u001b[38;5;124m \u001b[39m\u001b[38;5;124m%\u001b[39m\u001b[38;5;124mb \u001b[39m\u001b[38;5;132;01m%d\u001b[39;00m\u001b[38;5;124m \u001b[39m\u001b[38;5;124m%\u001b[39m\u001b[38;5;124mH:\u001b[39m\u001b[38;5;124m%\u001b[39m\u001b[38;5;124mM:\u001b[39m\u001b[38;5;124m%\u001b[39m\u001b[38;5;124mS \u001b[39m\u001b[38;5;124m%\u001b[39m\u001b[38;5;124mY\u001b[39m\u001b[38;5;124m\"\u001b[39m):\n\u001b[1;32m    566\u001b[0m \u001b[38;5;250m    \u001b[39m\u001b[38;5;124;03m\"\"\"Return a class cls instance based on the input string and the\u001b[39;00m\n\u001b[1;32m    567\u001b[0m \u001b[38;5;124;03m    format string.\"\"\"\u001b[39;00m\n\u001b[0;32m--> 568\u001b[0m     tt, fraction, gmtoff_fraction \u001b[38;5;241m=\u001b[39m \u001b[43m_strptime\u001b[49m\u001b[43m(\u001b[49m\u001b[43mdata_string\u001b[49m\u001b[43m,\u001b[49m\u001b[43m \u001b[49m\u001b[38;5;28;43mformat\u001b[39;49m\u001b[43m)\u001b[49m\n\u001b[1;32m    569\u001b[0m     tzname, gmtoff \u001b[38;5;241m=\u001b[39m tt[\u001b[38;5;241m-\u001b[39m\u001b[38;5;241m2\u001b[39m:]\n\u001b[1;32m    570\u001b[0m     args \u001b[38;5;241m=\u001b[39m tt[:\u001b[38;5;241m6\u001b[39m] \u001b[38;5;241m+\u001b[39m (fraction,)\n",
      "File \u001b[0;32m/opt/conda/lib/python3.10/_strptime.py:349\u001b[0m, in \u001b[0;36m_strptime\u001b[0;34m(data_string, format)\u001b[0m\n\u001b[1;32m    347\u001b[0m found \u001b[38;5;241m=\u001b[39m format_regex\u001b[38;5;241m.\u001b[39mmatch(data_string)\n\u001b[1;32m    348\u001b[0m \u001b[38;5;28;01mif\u001b[39;00m \u001b[38;5;129;01mnot\u001b[39;00m found:\n\u001b[0;32m--> 349\u001b[0m     \u001b[38;5;28;01mraise\u001b[39;00m \u001b[38;5;167;01mValueError\u001b[39;00m(\u001b[38;5;124m\"\u001b[39m\u001b[38;5;124mtime data \u001b[39m\u001b[38;5;132;01m%r\u001b[39;00m\u001b[38;5;124m does not match format \u001b[39m\u001b[38;5;132;01m%r\u001b[39;00m\u001b[38;5;124m\"\u001b[39m \u001b[38;5;241m%\u001b[39m\n\u001b[1;32m    350\u001b[0m                      (data_string, \u001b[38;5;28mformat\u001b[39m))\n\u001b[1;32m    351\u001b[0m \u001b[38;5;28;01mif\u001b[39;00m \u001b[38;5;28mlen\u001b[39m(data_string) \u001b[38;5;241m!=\u001b[39m found\u001b[38;5;241m.\u001b[39mend():\n\u001b[1;32m    352\u001b[0m     \u001b[38;5;28;01mraise\u001b[39;00m \u001b[38;5;167;01mValueError\u001b[39;00m(\u001b[38;5;124m\"\u001b[39m\u001b[38;5;124munconverted data remains: \u001b[39m\u001b[38;5;132;01m%s\u001b[39;00m\u001b[38;5;124m\"\u001b[39m \u001b[38;5;241m%\u001b[39m\n\u001b[1;32m    353\u001b[0m                       data_string[found\u001b[38;5;241m.\u001b[39mend():])\n",
      "\u001b[0;31mValueError\u001b[0m: time data '2024/09/0100:00' does not match format '%Y/%m/%d , %H:%M'"
     ]
    }
   ],
   "source": [
    "datetime.strptime(row[0] + '' + row[1], '%Y/%m/%d , %H:%M')"
   ]
  },
  {
   "cell_type": "code",
   "execution_count": 41,
   "id": "4c0ec0f3-977b-4011-b60c-c4b89b649236",
   "metadata": {
    "tags": []
   },
   "outputs": [
    {
     "ename": "ValueError",
     "evalue": "time data '\"2024/09/01\"\"00:00\"' does not match format '%Y/%m/%d %H:%M'",
     "output_type": "error",
     "traceback": [
      "\u001b[0;31m---------------------------------------------------------------------------\u001b[0m",
      "\u001b[0;31mValueError\u001b[0m                                Traceback (most recent call last)",
      "Cell \u001b[0;32mIn[41], line 2\u001b[0m\n\u001b[1;32m      1\u001b[0m \u001b[38;5;66;03m# every row using list comprehension\u001b[39;00m\n\u001b[0;32m----> 2\u001b[0m date_list\u001b[38;5;241m=\u001b[39m [\u001b[43mdatetime\u001b[49m\u001b[38;5;241;43m.\u001b[39;49m\u001b[43mstrptime\u001b[49m\u001b[43m(\u001b[49m\u001b[43mrow\u001b[49m\u001b[43m[\u001b[49m\u001b[38;5;241;43m0\u001b[39;49m\u001b[43m]\u001b[49m\u001b[43m \u001b[49m\u001b[38;5;241;43m+\u001b[39;49m\u001b[43m \u001b[49m\u001b[38;5;124;43m'\u001b[39;49m\u001b[38;5;124;43m'\u001b[39;49m\u001b[43m \u001b[49m\u001b[38;5;241;43m+\u001b[39;49m\u001b[43m \u001b[49m\u001b[43mrow\u001b[49m\u001b[43m[\u001b[49m\u001b[38;5;241;43m1\u001b[39;49m\u001b[43m]\u001b[49m\u001b[43m,\u001b[49m\u001b[43m \u001b[49m\u001b[38;5;124;43m'\u001b[39;49m\u001b[38;5;124;43m%\u001b[39;49m\u001b[38;5;124;43mY/\u001b[39;49m\u001b[38;5;124;43m%\u001b[39;49m\u001b[38;5;124;43mm/\u001b[39;49m\u001b[38;5;132;43;01m%d\u001b[39;49;00m\u001b[38;5;124;43m \u001b[39;49m\u001b[38;5;124;43m%\u001b[39;49m\u001b[38;5;124;43mH:\u001b[39;49m\u001b[38;5;124;43m%\u001b[39;49m\u001b[38;5;124;43mM\u001b[39;49m\u001b[38;5;124;43m'\u001b[39;49m\u001b[43m)\u001b[49m]\n\u001b[1;32m      3\u001b[0m date_array\u001b[38;5;241m=\u001b[39m np\u001b[38;5;241m.\u001b[39marray(date_list)\n",
      "File \u001b[0;32m/opt/conda/lib/python3.10/_strptime.py:568\u001b[0m, in \u001b[0;36m_strptime_datetime\u001b[0;34m(cls, data_string, format)\u001b[0m\n\u001b[1;32m    565\u001b[0m \u001b[38;5;28;01mdef\u001b[39;00m \u001b[38;5;21m_strptime_datetime\u001b[39m(\u001b[38;5;28mcls\u001b[39m, data_string, \u001b[38;5;28mformat\u001b[39m\u001b[38;5;241m=\u001b[39m\u001b[38;5;124m\"\u001b[39m\u001b[38;5;132;01m%a\u001b[39;00m\u001b[38;5;124m \u001b[39m\u001b[38;5;124m%\u001b[39m\u001b[38;5;124mb \u001b[39m\u001b[38;5;132;01m%d\u001b[39;00m\u001b[38;5;124m \u001b[39m\u001b[38;5;124m%\u001b[39m\u001b[38;5;124mH:\u001b[39m\u001b[38;5;124m%\u001b[39m\u001b[38;5;124mM:\u001b[39m\u001b[38;5;124m%\u001b[39m\u001b[38;5;124mS \u001b[39m\u001b[38;5;124m%\u001b[39m\u001b[38;5;124mY\u001b[39m\u001b[38;5;124m\"\u001b[39m):\n\u001b[1;32m    566\u001b[0m \u001b[38;5;250m    \u001b[39m\u001b[38;5;124;03m\"\"\"Return a class cls instance based on the input string and the\u001b[39;00m\n\u001b[1;32m    567\u001b[0m \u001b[38;5;124;03m    format string.\"\"\"\u001b[39;00m\n\u001b[0;32m--> 568\u001b[0m     tt, fraction, gmtoff_fraction \u001b[38;5;241m=\u001b[39m \u001b[43m_strptime\u001b[49m\u001b[43m(\u001b[49m\u001b[43mdata_string\u001b[49m\u001b[43m,\u001b[49m\u001b[43m \u001b[49m\u001b[38;5;28;43mformat\u001b[39;49m\u001b[43m)\u001b[49m\n\u001b[1;32m    569\u001b[0m     tzname, gmtoff \u001b[38;5;241m=\u001b[39m tt[\u001b[38;5;241m-\u001b[39m\u001b[38;5;241m2\u001b[39m:]\n\u001b[1;32m    570\u001b[0m     args \u001b[38;5;241m=\u001b[39m tt[:\u001b[38;5;241m6\u001b[39m] \u001b[38;5;241m+\u001b[39m (fraction,)\n",
      "File \u001b[0;32m/opt/conda/lib/python3.10/_strptime.py:349\u001b[0m, in \u001b[0;36m_strptime\u001b[0;34m(data_string, format)\u001b[0m\n\u001b[1;32m    347\u001b[0m found \u001b[38;5;241m=\u001b[39m format_regex\u001b[38;5;241m.\u001b[39mmatch(data_string)\n\u001b[1;32m    348\u001b[0m \u001b[38;5;28;01mif\u001b[39;00m \u001b[38;5;129;01mnot\u001b[39;00m found:\n\u001b[0;32m--> 349\u001b[0m     \u001b[38;5;28;01mraise\u001b[39;00m \u001b[38;5;167;01mValueError\u001b[39;00m(\u001b[38;5;124m\"\u001b[39m\u001b[38;5;124mtime data \u001b[39m\u001b[38;5;132;01m%r\u001b[39;00m\u001b[38;5;124m does not match format \u001b[39m\u001b[38;5;132;01m%r\u001b[39;00m\u001b[38;5;124m\"\u001b[39m \u001b[38;5;241m%\u001b[39m\n\u001b[1;32m    350\u001b[0m                      (data_string, \u001b[38;5;28mformat\u001b[39m))\n\u001b[1;32m    351\u001b[0m \u001b[38;5;28;01mif\u001b[39;00m \u001b[38;5;28mlen\u001b[39m(data_string) \u001b[38;5;241m!=\u001b[39m found\u001b[38;5;241m.\u001b[39mend():\n\u001b[1;32m    352\u001b[0m     \u001b[38;5;28;01mraise\u001b[39;00m \u001b[38;5;167;01mValueError\u001b[39;00m(\u001b[38;5;124m\"\u001b[39m\u001b[38;5;124munconverted data remains: \u001b[39m\u001b[38;5;132;01m%s\u001b[39;00m\u001b[38;5;124m\"\u001b[39m \u001b[38;5;241m%\u001b[39m\n\u001b[1;32m    353\u001b[0m                       data_string[found\u001b[38;5;241m.\u001b[39mend():])\n",
      "\u001b[0;31mValueError\u001b[0m: time data '\"2024/09/01\"\"00:00\"' does not match format '%Y/%m/%d %H:%M'"
     ]
    }
   ],
   "source": [
    "# every row using list comprehension\n",
    "date_list= [datetime.strptime(row[0] + '' + row[1], '%Y/%m/%d %H:%M')\n",
    "date_array= np.array(date_list)"
   ]
  },
  {
   "cell_type": "code",
   "execution_count": null,
   "id": "2e9aa413-7f93-42c5-9c84-e53cc8dd314b",
   "metadata": {},
   "outputs": [],
   "source": [
    "# convert predicted water level values to array of floats\n",
    "predicted= np.array([float(value) for value in data[;,2]])"
   ]
  }
 ],
 "metadata": {
  "kernelspec": {
   "display_name": "Python 3 (ipykernel)",
   "language": "python",
   "name": "python3"
  },
  "language_info": {
   "codemirror_mode": {
    "name": "ipython",
    "version": 3
   },
   "file_extension": ".py",
   "mimetype": "text/x-python",
   "name": "python",
   "nbconvert_exporter": "python",
   "pygments_lexer": "ipython3",
   "version": "3.10.10"
  }
 },
 "nbformat": 4,
 "nbformat_minor": 5
}
